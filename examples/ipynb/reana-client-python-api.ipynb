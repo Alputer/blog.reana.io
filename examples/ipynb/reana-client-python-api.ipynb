{
 "cells": [
  {
   "cell_type": "markdown",
   "metadata": {},
   "source": [
    "## How to run workflows using REANA client Python API"
   ]
  },
  {
   "cell_type": "markdown",
   "metadata": {},
   "source": [
    "This Jupyter Notebook is a step by step guide on how to submit workflows to REANA using the client Python API. For more detailed information and code explanations please refer to the [blog post](https://blog.reana.io/posts/2021/reana-client-python-api/)."
   ]
  },
  {
   "cell_type": "markdown",
   "metadata": {},
   "source": [
    "### Configuring access"
   ]
  },
  {
   "cell_type": "code",
   "execution_count": 1,
   "metadata": {},
   "outputs": [],
   "source": [
    "import os\n",
    "\n",
    "if not os.getenv('REANA_SERVER_URL'):\n",
    "    os.environ['REANA_SERVER_URL'] = 'https://reana.cern.ch'"
   ]
  },
  {
   "cell_type": "code",
   "execution_count": 2,
   "metadata": {},
   "outputs": [],
   "source": [
    "from getpass import getpass\n",
    "\n",
    "my_reana_token = \\\n",
    "    os.getenv(\"REANA_ACCESS_TOKEN\") or getpass('Enter your REANA token: ')"
   ]
  },
  {
   "cell_type": "code",
   "execution_count": 1,
   "metadata": {},
   "outputs": [
    {
     "data": {
      "text/plain": [
       "{'email': 'john.doe@example.org',\n",
       " 'full_name': 'John Doe',\n",
       " 'reana_server_version': '0.7.2',\n",
       " 'reana_token': {'requested_at': 'Fri, 26 Feb 2021 13:00:00 GMT',\n",
       "  'status': 'active',\n",
       "  'value': 'my_reana_token'},\n",
       " 'username': None,\n",
       " 'status': 'Connected',\n",
       " 'error': False}"
      ]
     },
     "execution_count": 1,
     "metadata": {},
     "output_type": "execute_result"
    }
   ],
   "source": [
    "from reana_client.api.client import ping\n",
    "\n",
    "ping(my_reana_token)"
   ]
  },
  {
   "cell_type": "markdown",
   "metadata": {},
   "source": [
    "### Specifying workflow"
   ]
  },
  {
   "cell_type": "code",
   "execution_count": 3,
   "metadata": {},
   "outputs": [],
   "source": [
    "my_workflow_name = 'root6-roofit'\n",
    "my_workflow_type = 'serial'"
   ]
  },
  {
   "cell_type": "code",
   "execution_count": 4,
   "metadata": {},
   "outputs": [],
   "source": [
    "my_inputs = {\n",
    "    'files': [\n",
    "        'code/gendata.C',\n",
    "        'code/fitdata.C'\n",
    "    ],  # A list of files your analysis will be using\n",
    "    'parameters': {\n",
    "        'events': '20000',\n",
    "        'data': 'results/data.root',\n",
    "        'plot': 'results/plot.png',\n",
    "    }  # Parameters for your workflow\n",
    "}"
   ]
  },
  {
   "cell_type": "code",
   "execution_count": 5,
   "metadata": {},
   "outputs": [],
   "source": [
    "my_workflow = {\n",
    "    'steps': [\n",
    "        {\n",
    "            'name': 'gendata',\n",
    "            'environment': 'reanahub/reana-env-root6:6.18.04',\n",
    "            'commands': [\n",
    "                'mkdir -p results && root -b -q \\'code/gendata.C(${events},\"${data}\")\\''\n",
    "            ],\n",
    "        },\n",
    "        {\n",
    "            'name': 'fitdata',\n",
    "            'environment': 'reanahub/reana-env-root6:6.18.04',\n",
    "            'commands': [\n",
    "                'root -b -q \\'code/fitdata.C(\"${data}\",\"${plot}\")\\''\n",
    "            ],\n",
    "        },\n",
    "    ]\n",
    "}"
   ]
  },
  {
   "cell_type": "markdown",
   "metadata": {},
   "source": [
    "### Creating workflow"
   ]
  },
  {
   "cell_type": "code",
   "execution_count": 6,
   "metadata": {},
   "outputs": [
    {
     "data": {
      "text/plain": [
       "{'message': 'Workflow workspace created',\n",
       " 'workflow_id': 'ce3204a6-5111-490a-8ed6-eaa7c83fc74d',\n",
       " 'workflow_name': 'root6-roofit.1'}"
      ]
     },
     "execution_count": 6,
     "metadata": {},
     "output_type": "execute_result"
    }
   ],
   "source": [
    "from reana_client.api.client import create_workflow_from_json\n",
    "\n",
    "create_workflow_from_json(\n",
    "    workflow_json=my_workflow,\n",
    "    name=my_workflow_name,\n",
    "    access_token=my_reana_token,\n",
    "    parameters=my_inputs,\n",
    "    workflow_engine=my_workflow_type)"
   ]
  },
  {
   "cell_type": "markdown",
   "metadata": {},
   "source": [
    "### Uploading files"
   ]
  },
  {
   "cell_type": "code",
   "execution_count": 7,
   "metadata": {},
   "outputs": [],
   "source": [
    "from reana_client.api.client import upload_to_server\n",
    "\n",
    "abs_path_to_input_files = [os.path.abspath(f) for f in my_inputs['files']]\n",
    "upload_to_server(my_workflow_name, abs_path_to_input_files, my_reana_token)"
   ]
  },
  {
   "cell_type": "markdown",
   "metadata": {},
   "source": [
    "### Starting workflow"
   ]
  },
  {
   "cell_type": "code",
   "execution_count": 8,
   "metadata": {},
   "outputs": [
    {
     "data": {
      "text/plain": [
       "{'message': 'Workflow submitted.',\n",
       " 'run_number': 1,\n",
       " 'status': 'queued',\n",
       " 'user': '00000000-0000-0000-0000-000000000000',\n",
       " 'workflow_id': 'ce3204a6-5111-490a-8ed6-eaa7c83fc74d',\n",
       " 'workflow_name': 'root6-roofit'}"
      ]
     },
     "execution_count": 8,
     "metadata": {},
     "output_type": "execute_result"
    }
   ],
   "source": [
    "from reana_client.api.client import start_workflow\n",
    "\n",
    "start_workflow(my_workflow_name, my_reana_token, {})"
   ]
  },
  {
   "cell_type": "markdown",
   "metadata": {},
   "source": [
    "### Checking workflow status"
   ]
  },
  {
   "cell_type": "code",
   "execution_count": 9,
   "metadata": {},
   "outputs": [
    {
     "name": "stdout",
     "output_type": "stream",
     "text": [
      "Current status:  running\n",
      "Current status:  running\n",
      "Current status:  running\n",
      "Current status:  finished\n"
     ]
    }
   ],
   "source": [
    "import time\n",
    "from reana_client.api.client import get_workflow_status\n",
    "\n",
    "while True:\n",
    "    status_details = get_workflow_status(my_workflow_name, my_reana_token)\n",
    "    print('Current status: ', status_details['status'])\n",
    "    if status_details['status'] == 'finished':\n",
    "        break\n",
    "    time.sleep(1)"
   ]
  },
  {
   "cell_type": "markdown",
   "metadata": {},
   "source": [
    "### Checking workflow logs"
   ]
  },
  {
   "cell_type": "code",
   "execution_count": 10,
   "metadata": {},
   "outputs": [
     {
     "name": "stdout",
     "output_type": "stream",
     "text": [
      "ERR MATRIX APPROXIMATE\n",
      " PARAMETER  CORRELATION COEFFICIENTS  \n",
      "       NO.  GLOBAL      1      2      3      4      5\n",
      "        1  0.00000   1.000  0.000  0.000  0.000  0.000\n",
      "        2  0.00000   0.000  1.000  0.000  0.000  0.000\n",
      "        3  0.00000   0.000  0.000  1.000  0.000  0.000\n",
      "        4  0.00000   0.000  0.000  0.000  1.000  0.000\n",
      "        5  0.00000   0.000  0.000  0.000  0.000  1.000\n",
      " ERR MATRIX APPROXIMATE\n",
      "[#1] INFO:Minization -- RooMinimizer::optimizeConst: deactivating const optimization\n",
      "[#1] INFO:Plotting -- RooAbsPdf::plotOn(model) directly selected PDF components: (bkg)\n",
      "[#1] INFO:Plotting -- RooAbsPdf::plotOn(model) indirectly selected PDF components: ()\n",
      "Info in <TCanvas::Print>: png file results/plot.png has been created\n"
     ]
    }
   ],
   "source": [
    "import json\n",
    "from reana_client.api.client import get_workflow_logs\n",
    "\n",
    "workflow_logs = get_workflow_logs(my_workflow_name, my_reana_token, ['fitdata'])\n",
    "job_logs = json.loads(workflow_logs['logs'])['job_logs']\n",
    "fitdata_logs = job_logs[next(iter(job_logs))]['logs']\n",
    "\n",
    "for item in fitdata_logs.split('\\n')[-15:]:\n",
    "    print(item)"
   ]
  },
  {
   "cell_type": "markdown",
   "metadata": {},
   "source": [
    "### Listing workspace files"
   ]
  },
  {
   "cell_type": "code",
   "execution_count": 11,
   "metadata": {},
   "outputs": [
    {
     "data": {
      "text/plain": [
       "[{'last-modified': '2021-02-25T13:36:17',\n",
       "  'name': 'results/data.root',\n",
       "  'size': 154457},\n",
       " {'last-modified': '2021-02-25T13:36:24',\n",
       "  'name': 'results/plot.png',\n",
       "  'size': 15450},\n",
       " {'last-modified': '2021-02-25T13:35:50',\n",
       "  'name': 'code/gendata.C',\n",
       "  'size': 1937},\n",
       " {'last-modified': '2021-02-25T13:35:50',\n",
       "  'name': 'code/fitdata.C',\n",
       "  'size': 1648}]"
      ]
     },
     "execution_count": 11,
     "metadata": {},
     "output_type": "execute_result"
    }
   ],
   "source": [
    "from reana_client.api.client import list_files\n",
    "\n",
    "list_files(my_workflow_name, my_reana_token)"
   ]
  },
  {
   "cell_type": "markdown",
   "metadata": {},
   "source": [
    "### Downloading outputs"
   ]
  },
  {
   "cell_type": "code",
   "execution_count": 12,
   "metadata": {},
   "outputs": [],
   "source": [
    "from reana_client.api.client import download_file\n",
    "\n",
    "output_filename = 'results/plot.png'\n",
    "file_binary_blob = download_file(\n",
    "    my_workflow_name, output_filename, my_reana_token)"
   ]
  },
  {
   "cell_type": "markdown",
   "metadata": {},
   "source": [
    "### Displaying output images"
   ]
  },
  {
   "cell_type": "code",
   "execution_count": 13,
   "metadata": {},
   "outputs": [
    {
     "data": {
      "image/png": "[encoded data removed]",
      "text/plain": [
       "<PIL.PngImagePlugin.PngImageFile image mode=RGB size=596x572 at 0x7FE965730F10>"
      ]
     },
     "execution_count": 13,
     "metadata": {},
     "output_type": "execute_result"
    }
   ],
   "source": [
    "from PIL import Image\n",
    "import io\n",
    "\n",
    "image_stream = io.BytesIO(file_binary_blob)\n",
    "Image.open(image_stream)"
   ]
  },
  {
   "cell_type": "code",
   "execution_count": null,
   "metadata": {},
   "outputs": [],
   "source": []
  }
 ],
 "metadata": {
  "kernelspec": {
   "display_name": "virtualenv_python",
   "language": "python",
   "name": "virtualenv_python"
  },
  "language_info": {
   "codemirror_mode": {
    "name": "ipython",
    "version": 3
   },
   "file_extension": ".py",
   "mimetype": "text/x-python",
   "name": "python",
   "nbconvert_exporter": "python",
   "pygments_lexer": "ipython3",
   "version": "3.8.6"
  }
 },
 "nbformat": 4,
 "nbformat_minor": 4
}
